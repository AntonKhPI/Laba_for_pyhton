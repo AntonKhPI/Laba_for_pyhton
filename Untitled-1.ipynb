{
 "cells": [
  {
   "cell_type": "markdown",
   "metadata": {},
   "source": [
    "# Джибуті\n",
    "\n",
    "## Площа\n",
    "\n",
    "**23,200 кв. км**\n",
    "\n",
    "## Наслелення\n",
    "\n",
    "**Близько 1 мільйона осіб**\n",
    "\n",
    "## Державний устрій\n",
    "**Унітарна республіка**\n",
    "\n",
    "## Видатні персони\n",
    "- **Ісмаїл Омар Гелле** — *президент Джибуті з 1999 року*\n",
    "- **Ахмед Діні Ахмед** — *політичний діяч, один з лідерів незалежності*\n",
    "\n",
    "## Пам'ятки культури та природи\n",
    "- **Озеро Ассаль** — *найнижча точка Африки*\n",
    "- **Місто Таджура** — *історичне портове місто*\n",
    "\n",
    "## Основна інформація\n",
    "\n",
    "| Показник         | Значення                |\n",
    "|------------------|-------------------------|\n",
    "| Площа            | 23 200 км²              |\n",
    "| Населення        | 1 015 000 осіб (2023)   |\n",
    "| Валюта           | Джибутійський франк     |\n",
    "| Офіційні мови    | Французька, арабська    |\n",
    "\n",
    "## Економіка\n",
    "\n",
    "- Портові послуги:\n",
    "  - *Торгівля*\n",
    "  - *Логістика*\n",
    "- Сільське господарство:\n",
    "    - *Рибальство*\n",
    "    - *Випас худоби*\n",
    "\n",
    "## Фото озера Ассаль\n",
    "![Озеро Ассаль](https://upload.wikimedia.org/wikipedia/commons/d/d8/Lake_Assal_NASA_%28cropped%29.jpg)\n",
    "\n",
    "## Гіперпосилання\n",
    "[Wikipedia](https://uk.wikipedia.org/wiki/Джибуті)\n",
    "\n",
    "## Прапор Джибуті\n",
    "![Прапор Джибуті](https://upload.wikimedia.org/wikipedia/commons/thumb/3/34/Flag_of_Djibouti.svg/800px-Flag_of_Djibouti.svg.png)\n"
   ]
  },
  {
   "cell_type": "code",
   "execution_count": 45,
   "metadata": {},
   "outputs": [
    {
     "data": {
      "text/html": [
       "<svg width=\"600\" height=\"400\" xmlns=\"http://www.w3.org/2000/svg\">\n",
       "  <rect width=\"600\" height=\"200\" fill=\"#6AB2E7\" />\n",
       "  <rect y=\"200\" width=\"600\" height=\"200\" fill=\"#12AD2B\" />\n",
       "  <polygon points=\"0,0 0,400 300,200\" fill=\"#FFFFFF\" />\n",
       "  <polygon points=\"100,160 112,190 145,190 117,210 127,240 100,220 73,240 83,210 55,190 88,190\" fill=\"#D7141A\" />\n",
       "</svg>\n"
      ],
      "text/plain": [
       "<IPython.core.display.HTML object>"
      ]
     },
     "metadata": {},
     "output_type": "display_data"
    }
   ],
   "source": [
    "%%HTML\n",
    "<svg width=\"600\" height=\"400\" xmlns=\"http://www.w3.org/2000/svg\">\n",
    "  <rect width=\"600\" height=\"200\" fill=\"#6AB2E7\" />\n",
    "  <rect y=\"200\" width=\"600\" height=\"200\" fill=\"#12AD2B\" />\n",
    "  <polygon points=\"0,0 0,400 300,200\" fill=\"#FFFFFF\" />\n",
    "  <polygon points=\"100,160 112,190 145,190 117,210 127,240 100,220 73,240 83,210 55,190 88,190\" fill=\"#D7141A\" />\n",
    "</svg>\n"
   ]
  },
  {
   "cell_type": "code",
   "execution_count": 46,
   "metadata": {},
   "outputs": [],
   "source": [
    "def task_4():\n",
    "    try:\n",
    "        a =  list(map(int, input().split())) \n",
    "    except ValueError:\n",
    "        return \"Помилка! Ви ввели string!!!\"\n",
    "    n = len(a)\n",
    "    count = 0\n",
    "    for i in range(n):\n",
    "        swap = False\n",
    "        for j in range(n - i - 1):\n",
    "            if a[j] > a[j+1]:\n",
    "                a[j], a[j+1] = a[j+1], a[j]\n",
    "                swap = True\n",
    "                count += 1\n",
    "        if not swap:\n",
    "            break\n",
    "    print(f\"Було виконано {count} переставлень\")\n",
    "    return a"
   ]
  },
  {
   "cell_type": "code",
   "execution_count": 47,
   "metadata": {},
   "outputs": [
    {
     "name": "stdin",
     "output_type": "stream",
     "text": [
      " 1 2 3 4 5\n"
     ]
    },
    {
     "name": "stdout",
     "output_type": "stream",
     "text": [
      "Було виконано 0 переставлень\n"
     ]
    },
    {
     "data": {
      "text/plain": [
       "[1, 2, 3, 4, 5]"
      ]
     },
     "execution_count": 47,
     "metadata": {},
     "output_type": "execute_result"
    }
   ],
   "source": [
    "task_4()"
   ]
  },
  {
   "cell_type": "code",
   "execution_count": 24,
   "metadata": {},
   "outputs": [
    {
     "name": "stdin",
     "output_type": "stream",
     "text": [
      " 6 2 6 2 5 3 6 2 4 5\n"
     ]
    },
    {
     "data": {
      "text/plain": [
       "([2, 2, 2, 3, 4, 5, 5, 6, 6, 6], 20)"
      ]
     },
     "execution_count": 24,
     "metadata": {},
     "output_type": "execute_result"
    }
   ],
   "source": [
    "task_4()"
   ]
  },
  {
   "cell_type": "code",
   "execution_count": null,
   "metadata": {},
   "outputs": [],
   "source": [
    "task_4()"
   ]
  },
  {
   "cell_type": "code",
   "execution_count": 44,
   "metadata": {},
   "outputs": [
    {
     "name": "stdout",
     "output_type": "stream",
     "text": [
      "4\n"
     ]
    }
   ],
   "source": [
    "print(ord(\"Г\")%10+1)"
   ]
  },
  {
   "cell_type": "code",
   "execution_count": null,
   "metadata": {},
   "outputs": [],
   "source": []
  },
  {
   "cell_type": "code",
   "execution_count": null,
   "metadata": {},
   "outputs": [],
   "source": []
  },
  {
   "cell_type": "code",
   "execution_count": null,
   "metadata": {},
   "outputs": [],
   "source": []
  },
  {
   "cell_type": "code",
   "execution_count": null,
   "metadata": {},
   "outputs": [],
   "source": []
  }
 ],
 "metadata": {
  "kernelspec": {
   "display_name": "Python 3 (ipykernel)",
   "language": "python",
   "name": "python3"
  },
  "language_info": {
   "codemirror_mode": {
    "name": "ipython",
    "version": 3
   },
   "file_extension": ".py",
   "mimetype": "text/x-python",
   "name": "python",
   "nbconvert_exporter": "python",
   "pygments_lexer": "ipython3",
   "version": "3.11.7"
  }
 },
 "nbformat": 4,
 "nbformat_minor": 4
}
